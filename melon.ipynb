{
 "cells": [
  {
   "cell_type": "code",
   "execution_count": 22,
   "id": "846ac970-6e92-48a7-901b-5780925f2d33",
   "metadata": {
    "scrolled": true
   },
   "outputs": [
    {
     "name": "stdout",
     "output_type": "stream",
     "text": [
      "콘서트 카테고리가 성공적으로 선택되었습니다.\n",
      "티켓오픈일: 2024.04.03(수) 20:00, 제목: DRINK DANCE AND LOVE ALL vol．2：루디스텔로 x 아이디얼스 티켓 오픈 안내, 등록일: 2024.04.01\n",
      "티켓오픈일: 2024.04.04(목) 17:00, 제목: 2024 스카 페스티벌－창원 〈HIPHOP Super－Swag〉 티켓 오픈 안내, 등록일: 2024.04.01\n",
      "티켓오픈일: 2024.02.06(화) 12:00, 제목: 제16회 서울재즈페스티벌 2024 5차 라인업 안내, 등록일: 2024.04.01\n",
      "티켓오픈일: 2024.04.08(월) 20:00, 제목: 캐치더영 단독 콘서트 ‘Odyssey of Dream’：롤링 29주년 기념 공연 티켓 오픈 안내, 등록일: 2024.04.01\n",
      "티켓오픈일: 2024.04.05(금) 20:00, 제목: 2024 이병찬 작은 음악회 리틀스타 티켓 오픈 안내, 등록일: 2024.04.01\n",
      "티켓오픈일: 2024.04.03(수) 20:00, 제목: 유희도 Birthday Eve Concert 티켓 오픈 안내, 등록일: 2024.03.28\n",
      "티켓오픈일: 2024.04.03(수) 14:00, 제목: 2024 리케이댄스 〈올더월즈〉 티켓 오픈 안내, 등록일: 2024.03.28\n",
      "티켓오픈일: 2024.04.02(화) 20:00, 제목: 손진욱 팬 사인회［NOOK：FAN Vol．2 Aphrodite］티켓 오픈 안내, 등록일: 2024.03.28\n",
      "티켓오픈일: 2024.04.02(화) 19:00, 제목: 손진욱 콘서트［NOOK：CON Vol．2 Aphrodite］티켓 오픈 안내, 등록일: 2024.03.28\n",
      "티켓오픈일: 2024.04.08(월) 18:00, 제목: 〈TEENY MOOD〉 timid mood 위재연 콘서트 티켓 오픈 안내, 등록일: 2024.03.28\n"
     ]
    }
   ],
   "source": [
    "from selenium import webdriver\n",
    "from selenium.webdriver.chrome.service import Service\n",
    "from webdriver_manager.chrome import ChromeDriverManager\n",
    "from selenium.webdriver.common.by import By\n",
    "from selenium.webdriver.support.ui import WebDriverWait\n",
    "from selenium.webdriver.support import expected_conditions as EC\n",
    "import time\n",
    "\n",
    "# ChromeDriverManager를 사용하여 크롬 드라이버 자동 설치 및 경로 설정\n",
    "service = Service(ChromeDriverManager().install())\n",
    "driver = webdriver.Chrome(service=service)\n",
    "\n",
    "# 열고자 하는 웹페이지 URL\n",
    "driver.get(\"https://ticket.melon.com/csoon/index.htm\")\n",
    "\n",
    "WebDriverWait(driver, 20).until(EC.presence_of_element_located((By.CSS_SELECTOR, '#sForm')))\n",
    "\n",
    "# JavaScript를 사용하여 콘서트 카테고리 클릭 2:콘서트,3:뮤지컬/연극,4:클래식,5:전시/행\n",
    "concert_category_selector = \"#sForm > div > div.wrap_form_input.box_ticket_search > div > div > div > ul > li:nth-child(2) > a\"\n",
    "driver.execute_script(f\"document.querySelector('{concert_category_selector}').click();\")\n",
    "\n",
    "# 페이지 업데이트를 기다립니다.\n",
    "time.sleep(5)  # 필요한 경우 시간 조정\n",
    "# 선택된 카테고리가 '콘서트'인지 확인\n",
    "if WebDriverWait(driver, 10).until(EC.presence_of_element_located((By.CSS_SELECTOR, \"#sForm > div > div.wrap_form_input.box_ticket_search > div > div > div > ul > li.on > a\"))):\n",
    "    print(\"콘서트 카테고리가 성공적으로 선택되었습니다.\")\n",
    "\n",
    "# 정보 크롤링 로직 시작\n",
    "tickets = driver.find_elements(By.CSS_SELECTOR, '#conts .wrap_ticket_cont ul.list_ticket_cont li')\n",
    "\n",
    "for ticket in tickets:\n",
    "    open_date = ticket.find_element(By.CSS_SELECTOR, 'div.ticket_data > span.date').text\n",
    "    title = ticket.find_element(By.CSS_SELECTOR, 'div.link_consert > a').text\n",
    "    register_date = ticket.find_element(By.CSS_SELECTOR, 'div.link_consert > dl > dd.txt_date').text\n",
    "\n",
    "    print(f'티켓오픈일: {open_date}, 제목: {title}, 등록일: {register_date}')\n",
    "\n",
    "# 웹 드라이버 종료\n",
    "driver.quit()\n"
   ]
  },
  {
   "cell_type": "code",
   "execution_count": null,
   "id": "7bf597e8-0eab-4657-84df-8f156e5c94b0",
   "metadata": {},
   "outputs": [],
   "source": [
    "    print(\"완료\")"
   ]
  },
  {
   "cell_type": "code",
   "execution_count": null,
   "id": "f6fb6535-f4e2-438b-97f6-b61b57c15112",
   "metadata": {},
   "outputs": [],
   "source": []
  }
 ],
 "metadata": {
  "kernelspec": {
   "display_name": "Python 3 (ipykernel)",
   "language": "python",
   "name": "python3"
  },
  "language_info": {
   "codemirror_mode": {
    "name": "ipython",
    "version": 3
   },
   "file_extension": ".py",
   "mimetype": "text/x-python",
   "name": "python",
   "nbconvert_exporter": "python",
   "pygments_lexer": "ipython3",
   "version": "3.12.0b2"
  }
 },
 "nbformat": 4,
 "nbformat_minor": 5
}
